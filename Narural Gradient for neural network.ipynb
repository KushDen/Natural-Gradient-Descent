{
 "cells": [
  {
   "cell_type": "code",
   "execution_count": 2,
   "metadata": {},
   "outputs": [
    {
     "name": "stderr",
     "output_type": "stream",
     "text": [
      "Using TensorFlow backend.\n"
     ]
    }
   ],
   "source": [
    "import tensorflow as tf\n",
    "from tensorflow import keras\n",
    "import numpy as np\n",
    "import matplotlib.pyplot as plt\n",
    "import pandas as pd\n",
    "import csv\n",
    "from sklearn.model_selection import train_test_split\n",
    "from keras import backend as K\n",
    "import time\n",
    "import numpy.random as r\n",
    "\n",
    "raw_data = pd.read_csv('/Users/Denis/Documents/emnist-balanced-train.csv', delimiter=',')\n",
    "train, validate = train_test_split(raw_data, test_size = 0.005)\n",
    "x_train = train.values[:, 1:]\n",
    "y_train = train.values[:,0]\n",
    "x_validate = validate.values[:, 1:]\n",
    "y_validate = validate.values[:,0]\n",
    "img_rows, img_cols = 28, 28\n",
    "x_train = x_train.reshape(x_train.shape[0], 784)\n",
    "x_validate = x_validate.reshape(x_validate.shape[0], 784)\n",
    "x_train = x_train.astype('float32')\n",
    "x_validate = x_validate.astype('float32')\n",
    "x_train /= 255\n",
    "x_validate /= 255\n",
    "num_classes = 47\n",
    "y_train = keras.utils.to_categorical(y_train, num_classes)\n",
    "y_validate = keras.utils.to_categorical(y_validate, num_classes)"
   ]
  },
  {
   "cell_type": "code",
   "execution_count": 4,
   "metadata": {},
   "outputs": [],
   "source": [
    "nn_structure = [784, 100, 47]\n",
    "\n",
    "def f(x):\n",
    "    return 1 / (1 + np.exp(-x))\n",
    "\n",
    "def f_deriv(x):\n",
    "    return f(x) * (1 - f(x))"
   ]
  },
  {
   "cell_type": "code",
   "execution_count": 25,
   "metadata": {},
   "outputs": [],
   "source": [
    "time1 = []\n",
    "time2 = []\n",
    "iterr = []\n",
    "iterr2 = []"
   ]
  },
  {
   "cell_type": "code",
   "execution_count": 6,
   "metadata": {},
   "outputs": [],
   "source": [
    "def setup_and_init_weights(nn_structure):\n",
    "    W = {}\n",
    "    b = {}\n",
    "    for l in range(1, len(nn_structure)):\n",
    "        W[l] = r.random_sample((nn_structure[l], nn_structure[l-1]))*0.1\n",
    "        b[l] = r.random_sample((nn_structure[l],))*0.1\n",
    "    return W, b\n",
    "def init_tri_values(nn_structure):\n",
    "    tri_W = {}\n",
    "    tri_b = {}\n",
    "    for l in range(1, len(nn_structure)):\n",
    "        tri_W[l] = np.zeros((nn_structure[l], nn_structure[l-1]))\n",
    "        tri_b[l] = np.zeros((nn_structure[l],))\n",
    "    return tri_W, tri_b"
   ]
  },
  {
   "cell_type": "code",
   "execution_count": 7,
   "metadata": {},
   "outputs": [],
   "source": [
    "def feed_forward(x, W, b):\n",
    "    h = {1: x}\n",
    "    z = {}\n",
    "    for l in range(1, len(W) + 1):\n",
    "        if l == 1:\n",
    "            node_in = x\n",
    "        else:\n",
    "            node_in = h[l]\n",
    "        z[l+1] = W[l].dot(node_in) + b[l] # z^(l+1) = W^(l)*h^(l) + b^(l)\n",
    "        h[l+1] = f(z[l+1]) # h^(l) = f(z^(l))\n",
    "    return h, z\n",
    " "
   ]
  },
  {
   "cell_type": "code",
   "execution_count": 8,
   "metadata": {},
   "outputs": [],
   "source": [
    "def calculate_out_layer_delta(y, h_out, z_out):\n",
    "    return -(y-h_out) * f_deriv(z_out)\n",
    "def calculate_hidden_delta(delta_plus_1, w_l, z_l):\n",
    "    return np.dot(np.transpose(w_l), delta_plus_1) * f_deriv(z_l)"
   ]
  },
  {
   "cell_type": "code",
   "execution_count": 31,
   "metadata": {},
   "outputs": [],
   "source": [
    "def train_nn(nn_structure, X, y, k, iter_num=50, alpha=0.25):\n",
    "    W, b = setup_and_init_weights(nn_structure)\n",
    "    cnt = 0\n",
    "    m = len(y)\n",
    "    avg_cost_func = []\n",
    "    print('Starting gradient descent for {} iterations'.format(iter_num))\n",
    "    while cnt < iter_num:\n",
    "    #avg_cost_func.append(7)\n",
    "    #start = 7\n",
    "    #start_time = time.time()\n",
    "    #while avg_cost_func[-1]>k:\n",
    "        if cnt%10 == 0:\n",
    "            print('Iteration {} of {}'.format(cnt, iter_num))\n",
    "        tri_W, tri_b = init_tri_values(nn_structure)\n",
    "        avg_cost = 0\n",
    "        for i in range(len(y)):\n",
    "            delta = {}\n",
    "            h, z = feed_forward(X[i, :], W, b)\n",
    "            tri_w_perem, tri_b_perem = init_tri_values(nn_structure) \n",
    "            for l in range(len(nn_structure), 0, -1):\n",
    "                if l == len(nn_structure):\n",
    "                    delta[l] = calculate_out_layer_delta(y[i,:], h[l], z[l])\n",
    "                    avg_cost += np.linalg.norm((y[i,:]-h[l]))\n",
    "                else:\n",
    "                    if l > 1:\n",
    "                        delta[l] = calculate_hidden_delta(delta[l+1], W[l], z[l])\n",
    "                    tri_W[l] += np.dot(delta[l+1][:,np.newaxis], np.transpose(h[l][:,np.newaxis]))\n",
    "                    tri_w_perem[l] = np.dot(delta[l+1][:,np.newaxis], np.transpose(h[l][:,np.newaxis])) + np.random.randn(tri_w_perem[l].shape[0], tri_w_perem[l].shape[1])*0.005\n",
    "                    tri_b[l] += delta[l+1]\n",
    "                    tri_b_perem[l] = delta[l+1] + np.random.randn(tri_b_perem[l].shape[0])*0.005\n",
    "        for l in range(len(nn_structure) - 1, 0, -1):\n",
    "            W[l] += -alpha * (1.0/m * tri_W[l])\n",
    "            b[l] += -alpha * (1.0/m * tri_b[l])\n",
    "        \n",
    "        avg_cost = 1.0/m * avg_cost\n",
    "        avg_cost_func.append(avg_cost)\n",
    "        cnt += 1\n",
    "    #end_time = time.time()\n",
    "    #time1.append(end_time - start_time)\n",
    "    #iterr.append(start-k)\n",
    "    return W, b, avg_cost_func\n"
   ]
  },
  {
   "cell_type": "code",
   "execution_count": 30,
   "metadata": {},
   "outputs": [],
   "source": [
    "def train_nn_nature(nn_structure, X, y, iter_num=50, alpha=0.25):\n",
    "    W, b = setup_and_init_weights(nn_structure)\n",
    "    cnt = 0\n",
    "    m = len(y)\n",
    "    avg_cost_func = []\n",
    "    print('Starting gradient descent for {} iterations'.format(iter_num))\n",
    "    while cnt < iter_num:\n",
    "        if cnt%10 == 0:\n",
    "            print('Iteration {} of {}'.format(cnt, iter_num))\n",
    "        tri_W, tri_b = init_tri_values(nn_structure)\n",
    "        avg_cost = 0\n",
    "        F_w = {} # Fisher \n",
    "        F_b = {}\n",
    "        for l in range (1, len(nn_structure)):\n",
    "            F_w[l] = np.zeros((nn_structure[l], nn_structure[l]))\n",
    "            F_b[l] = np.zeros((nn_structure[l], nn_structure[l])) \n",
    "        for i in range(len(y)):\n",
    "            delta = {}\n",
    "            h, z = feed_forward(X[i, :], W, b)\n",
    "            tri_w_perem, tri_b_perem = init_tri_values(nn_structure) \n",
    "            for l in range(len(nn_structure), 0, -1):\n",
    "                if l == len(nn_structure):\n",
    "                    delta[l] = calculate_out_layer_delta(y[i,:], h[l], z[l])\n",
    "                    avg_cost += np.linalg.norm((y[i,:]-h[l]))\n",
    "                else:\n",
    "                    if l > 1:\n",
    "                        delta[l] = calculate_hidden_delta(delta[l+1], W[l], z[l])\n",
    "                    tri_W[l] += np.dot(delta[l+1][:,np.newaxis], np.transpose(h[l][:,np.newaxis]))\n",
    "                    \n",
    "                    tri_w_perem[l] = np.dot(delta[l+1][:,np.newaxis], np.transpose(h[l][:,np.newaxis])) + np.random.randn(tri_w_perem[l].shape[0], tri_w_perem[l].shape[1])*0.005\n",
    "                    \n",
    "                    tri_b[l] += delta[l+1]\n",
    "                    \n",
    "                    tri_b_perem[l] = delta[l+1] + np.random.randn(tri_b_perem[l].shape[0])*0.005\n",
    "                    \n",
    "                    F_w[l] += tri_w_perem[l]@tri_w_perem[l].T\n",
    "                    tri_b_perem[l] = tri_b_perem[l].reshape(tri_b_perem[l].shape[0], 1)\n",
    "                    F_b[l] += tri_b_perem[l]@tri_b_perem[l].T\n",
    "                    \n",
    "        F_w[l] = F_w[l]/m\n",
    "        F_b[l] = F_b[l]/m\n",
    "        for l in range(len(nn_structure) - 1, 0, -1):\n",
    "            #W[l] += -alpha * (1.0/m * tri_W[l])\n",
    "            #b[l] += -alpha * (1.0/m * tri_b[l])\n",
    "            W[l] += -alpha*np.linalg.inv(F_w[l])@tri_W[l]\n",
    "            b[l] += -alpha*np.linalg.inv(F_b[l])@tri_b[l]\n",
    "        avg_cost = 1.0/m * avg_cost\n",
    "        avg_cost_func.append(avg_cost)\n",
    "        cnt += 1\n",
    "    return W, b, avg_cost_func"
   ]
  },
  {
   "cell_type": "code",
   "execution_count": 24,
   "metadata": {},
   "outputs": [
    {
     "name": "stdout",
     "output_type": "stream",
     "text": [
      "Starting gradient descent for 50 iterations\n",
      "Iteration 0 of 50\n"
     ]
    }
   ],
   "source": [
    "W, b, avg_cost_func1 = train_nn(nn_structure, x_validate, y_validate)\n",
    "W, b, avg_cost_func2 = train_nn_nature(nn_structure, x_validate, y_validate)"
   ]
  },
  {
   "cell_type": "code",
   "execution_count": 19,
   "metadata": {},
   "outputs": [
    {
     "data": {
      "image/png": "[encoded data removed]",
      "text/plain": [
       "<Figure size 432x288 with 1 Axes>"
      ]
     },
     "metadata": {},
     "output_type": "display_data"
    },
    {
     "name": "stdout",
     "output_type": "stream",
     "text": [
      "0.9911401017759002\n",
      "1.0010774629444485\n"
     ]
    }
   ],
   "source": [
    "plt.plot(avg_cost_func1, label = 'Vanilla')\n",
    "plt.plot(avg_cost_func2, label = 'Natural')\n",
    "plt.ylabel('Средняя J')\n",
    "plt.xlabel('Количество итераций')\n",
    "plt.legend()\n",
    "plt.show()\n",
    "print(avg_cost_func1[-1])\n",
    "print(avg_cost_func2[-1])\n",
    "#plt.savefig('met_neu.pdf')"
   ]
  },
  {
   "cell_type": "code",
   "execution_count": 263,
   "metadata": {},
   "outputs": [
    {
     "name": "stdout",
     "output_type": "stream",
     "text": [
      "Prediction accuracy is 1.2411347517730498%\n"
     ]
    },
    {
     "name": "stderr",
     "output_type": "stream",
     "text": [
      "C:\\Users\\Denis\\Anaconda3\\lib\\site-packages\\ipykernel_launcher.py:4: RuntimeWarning: overflow encountered in exp\n",
      "  after removing the cwd from sys.path.\n"
     ]
    }
   ],
   "source": [
    "y_pred = predict_y(W, b, x_validate, 3)\n",
    "print('Prediction accuracy is {}%'.format(accuracy_score(y, y_pred) * 100))"
   ]
  },
  {
   "cell_type": "code",
   "execution_count": 166,
   "metadata": {},
   "outputs": [],
   "source": [
    "def predict_y(W, b, X, n_layers):\n",
    "    m = X.shape[0]\n",
    "    y = np.zeros((m,))\n",
    "    for i in range(m):\n",
    "        h, z = feed_forward(X[i, :], W, b)\n",
    "        y[i] = np.argmax(h[n_layers])\n",
    "    return y"
   ]
  }
 ],
 "metadata": {
  "kernelspec": {
   "display_name": "Python 3",
   "language": "python",
   "name": "python3"
  },
  "language_info": {
   "codemirror_mode": {
    "name": "ipython",
    "version": 3
   },
   "file_extension": ".py",
   "mimetype": "text/x-python",
   "name": "python",
   "nbconvert_exporter": "python",
   "pygments_lexer": "ipython3",
   "version": "3.6.5"
  }
 },
 "nbformat": 4,
 "nbformat_minor": 2
}
